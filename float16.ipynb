{
 "cells": [
  {
   "cell_type": "markdown",
   "id": "cccc6c7a-7673-4ae5-9587-c9c1c94d64f6",
   "metadata": {},
   "source": [
    "# Float16 in HDF5\n",
    "\n",
    "Compare performance of float16 to float32 data type conversion using HDF5 and numpy."
   ]
  },
  {
   "cell_type": "code",
   "execution_count": 1,
   "id": "6a77c0cd-2342-4e41-b653-d08def01fdb0",
   "metadata": {},
   "outputs": [
    {
     "name": "stdout",
     "output_type": "stream",
     "text": [
      "Summary of the h5py configuration\n",
      "---------------------------------\n",
      "\n",
      "h5py    3.7.0\n",
      "HDF5    1.12.2\n",
      "Python  3.10.6 (main, Aug 30 2022, 05:12:36) [Clang 13.1.6 (clang-1316.0.21.2.5)]\n",
      "sys.platform    darwin\n",
      "sys.maxsize     9223372036854775807\n",
      "numpy   1.23.3\n",
      "cython (built with) 0.29.32\n",
      "numpy (built against) 1.23.2\n",
      "HDF5 (built against) 1.12.2\n",
      "\n"
     ]
    }
   ],
   "source": [
    "import h5py\n",
    "import numpy as np\n",
    "print(h5py.version.info)"
   ]
  },
  {
   "cell_type": "markdown",
   "id": "e03815c7-e908-4418-93e0-000508fa0dd5",
   "metadata": {},
   "source": [
    "## Test Data"
   ]
  },
  {
   "cell_type": "code",
   "execution_count": 2,
   "id": "efeb84a4-6371-4ea9-936e-34f2168175fa",
   "metadata": {},
   "outputs": [],
   "source": [
    "# Name of file\n",
    "filename = \"/tmp/test.h5\"\n",
    "# Name of dataset in file\n",
    "dataset_name = \"float16\"\n",
    "# Dimensions of output dataset\n",
    "shape = 16384, 26880\n",
    "# Standard deviation for normally distributed values,\n",
    "# or `None` for random 16-bit patterns.\n",
    "stdev = None\n",
    "# Seed for random number generator (for reproducible data).\n",
    "seed = 0\n",
    "# Ensure no Inf or Nan values. \n",
    "disable_special = False\n",
    "# Ensure no subnormal values (leading zeros in mantissa).\n",
    "disable_subnormal = False"
   ]
  },
  {
   "cell_type": "code",
   "execution_count": 3,
   "id": "c731e683-44c8-4e76-9e25-85c74d0d8b49",
   "metadata": {},
   "outputs": [
    {
     "name": "stdout",
     "output_type": "stream",
     "text": [
      "random 16-bit patterns\n",
      "creating file /tmp/test.h5\n",
      "writing to dataset float16\n"
     ]
    }
   ],
   "source": [
    "rng = np.random.default_rng(seed)\n",
    "if stdev is None:\n",
    "    print(\"random 16-bit patterns\")\n",
    "    x = rng.integers(0, 2**16, shape, np.uint16)\n",
    "    xf = x.view(np.float16)\n",
    "else:\n",
    "    print(f\"float data in normal(0, {args.stdev}) distribution\")\n",
    "    x = rng.normal(0.0, args.stdev, shape)\n",
    "    xf = x.astype(np.float16)\n",
    "\n",
    "if disable_special:\n",
    "    print(\"setting values in {inf, -inf, nan} to zero\")\n",
    "    invalid = np.isinf(xf) | np.isnan(xf)\n",
    "    xf[invalid] = 0.0\n",
    "\n",
    "if disable_subnormal:\n",
    "    print(\"setting subnormal values to zero\")\n",
    "    fp = np.finfo(xf.dtype)\n",
    "    invalid = np.abs(xf) < fp.tiny\n",
    "    xf[invalid] = 0.0\n",
    "\n",
    "print(f\"creating file {filename}\")\n",
    "with h5py.File(filename, \"w\") as h5:\n",
    "    print(f\"writing to dataset {dataset_name}\")\n",
    "    dset = h5.create_dataset(dataset_name, data=xf)"
   ]
  },
  {
   "cell_type": "code",
   "execution_count": 4,
   "id": "af06404b-b62e-45e7-b408-51e07fcc4014",
   "metadata": {},
   "outputs": [],
   "source": [
    "f = h5py.File(filename, \"r\")\n",
    "dset = f[dataset_name]"
   ]
  },
  {
   "cell_type": "markdown",
   "id": "bacc1e40-ca0e-4320-b6a1-fb9fb8ff7528",
   "metadata": {},
   "source": [
    "## Convert with Numpy"
   ]
  },
  {
   "cell_type": "code",
   "execution_count": 5,
   "id": "9070462c-7191-4f8f-9c16-1f80ecfd9679",
   "metadata": {},
   "outputs": [
    {
     "name": "stdout",
     "output_type": "stream",
     "text": [
      "CPU times: user 1.53 s, sys: 726 ms, total: 2.25 s\n",
      "Wall time: 2.25 s\n"
     ]
    }
   ],
   "source": [
    "%%time\n",
    "# Use HDF5 API to read float16 data\n",
    "x = dset[:]\n",
    "# Use Numpy API to convert float16 to float32\n",
    "y = x.astype(np.float32)[:]"
   ]
  },
  {
   "cell_type": "markdown",
   "id": "655deb73-3dd4-467f-8d19-57076755e116",
   "metadata": {},
   "source": [
    "## Convert with HDF5"
   ]
  },
  {
   "cell_type": "code",
   "execution_count": 6,
   "id": "bcd93c24-f0c4-46d4-8d96-06d806782c39",
   "metadata": {},
   "outputs": [
    {
     "name": "stdout",
     "output_type": "stream",
     "text": [
      "CPU times: user 34.3 s, sys: 455 ms, total: 34.7 s\n",
      "Wall time: 34.7 s\n"
     ]
    }
   ],
   "source": [
    "%%time\n",
    "# Use HDF5 API to read data converted to float32\n",
    "# Note h5py API changed API for this in v3.0.0 (old way used a context manager)\n",
    "z = dset.astype(np.float32)[:]"
   ]
  },
  {
   "cell_type": "markdown",
   "id": "ff4cfe8d-3acf-4615-a24b-06a92c0a64b3",
   "metadata": {},
   "source": [
    "The HDF5 version is about 17x slower than numpy (34 s versus 2 s on my laptop)."
   ]
  },
  {
   "cell_type": "markdown",
   "id": "158ca9f5-40ad-43b1-a7a9-8f6b33b96e12",
   "metadata": {},
   "source": [
    "## Compare Results"
   ]
  },
  {
   "cell_type": "code",
   "execution_count": 7,
   "id": "dbf8f0b0-7c73-4f82-b690-657c970ecb09",
   "metadata": {},
   "outputs": [
    {
     "name": "stdout",
     "output_type": "stream",
     "text": [
      "mismatch at 13750222 values\n",
      "all mismatched values are nan\n",
      "example value at index (0, 32):\n",
      "  input float16:      nan\n",
      "  input float16 bits: 0b111111110111111\n",
      "  numpy float32 bits: 0b1111111111101111110000000000000\n",
      "  HDF5  float32 bits: 0b1111111111111111111111111111111\n",
      "example value at index (0, 64):\n",
      "  input float16:      nan\n",
      "  input float16 bits: 0b111111100001110\n",
      "  numpy float32 bits: 0b1111111111000011100000000000000\n",
      "  HDF5  float32 bits: 0b1111111111111111111111111111111\n",
      "example value at index (0, 107):\n",
      "  input float16:      nan\n",
      "  input float16 bits: 0b1111111101001001\n",
      "  numpy float32 bits: 0b11111111111010010010000000000000\n",
      "  HDF5  float32 bits: 0b11111111111111111111111111111111\n",
      "example value at index (0, 118):\n",
      "  input float16:      nan\n",
      "  input float16 bits: 0b111111111000110\n",
      "  numpy float32 bits: 0b1111111111110001100000000000000\n",
      "  HDF5  float32 bits: 0b1111111111111111111111111111111\n",
      "example value at index (0, 147):\n",
      "  input float16:      nan\n",
      "  input float16 bits: 0b111110001011111\n",
      "  numpy float32 bits: 0b1111111100010111110000000000000\n",
      "  HDF5  float32 bits: 0b1111111111111111111111111111111\n"
     ]
    }
   ],
   "source": [
    "# Verify that both methods decode to same values.\n",
    "mismatch = y != z\n",
    "if not np.alltrue(~mismatch):\n",
    "    i, j = np.where(mismatch)\n",
    "    print(f\"mismatch at {len(i)} values\")\n",
    "    if np.all(np.isnan(xf[mismatch])):\n",
    "        print(\"all mismatched values are nan\")\n",
    "    for k in range(min(5, len(i))):\n",
    "        key = i[k], j[k]\n",
    "        print(f\"example value at index {key}:\")\n",
    "        print(\"  input float16:     \", xf[key])\n",
    "        print(\"  input float16 bits:\", bin(xf[key].view(np.uint16)))\n",
    "        print(\"  numpy float32 bits:\", bin(y[key].view(np.uint32)))\n",
    "        print(\"  HDF5  float32 bits:\", bin(z[key].view(np.uint32)))"
   ]
  },
  {
   "cell_type": "markdown",
   "id": "169a50f3-1238-4d93-bd90-fc9d2cdda659",
   "metadata": {},
   "source": [
    "The outputs are identical except for NaN values, where HDF5 seems to just set all the significand to one. This is fairly harmless but could be annoying if the NaNs contain a payload for debugging."
   ]
  },
  {
   "cell_type": "code",
   "execution_count": null,
   "id": "43a1832a-789b-444e-8336-99d73150f1f9",
   "metadata": {},
   "outputs": [],
   "source": []
  }
 ],
 "metadata": {
  "kernelspec": {
   "display_name": "Python 3 (ipykernel)",
   "language": "python",
   "name": "python3"
  },
  "language_info": {
   "codemirror_mode": {
    "name": "ipython",
    "version": 3
   },
   "file_extension": ".py",
   "mimetype": "text/x-python",
   "name": "python",
   "nbconvert_exporter": "python",
   "pygments_lexer": "ipython3",
   "version": "3.10.6"
  }
 },
 "nbformat": 4,
 "nbformat_minor": 5
}
